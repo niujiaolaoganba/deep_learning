{
 "cells": [
  {
   "cell_type": "markdown",
   "metadata": {
    "collapsed": true
   },
   "source": [
    "# 图像分类\n",
    "\n",
    "在此项目中，你将对 [CIFAR-10 数据集](https://www.cs.toronto.edu/~kriz/cifar.html) 中的图片进行分类。\n"
   ]
  },
  {
   "cell_type": "markdown",
   "metadata": {},
   "source": [
    "### 图片读取和呈现\n",
    "读取pickle文件，或者单张图像，jpeg等格式。"
   ]
  },
  {
   "cell_type": "code",
   "execution_count": 30,
   "metadata": {},
   "outputs": [
    {
     "name": "stdout",
     "output_type": "stream",
     "text": [
      "automobile\n"
     ]
    },
    {
     "data": {
      "image/png": "[encoded data removed]",
      "text/plain": [
       "<matplotlib.figure.Figure at 0x13b80e8d0>"
      ]
     },
     "metadata": {},
     "output_type": "display_data"
    }
   ],
   "source": [
    "#读取pickle格式\n",
    "import pickle\n",
    "import matplotlib.pyplot as plt\n",
    "\n",
    "batch_id = 2\n",
    "with open('cifar-10-batches-py/data_batch_' + str(batch_id), mode='rb') as file:\n",
    "        batch = pickle.load(file, encoding='latin1')\n",
    "\n",
    "features = batch['data'].reshape((len(batch['data']), 3, 32, 32)).transpose(0, 2, 3, 1)\n",
    "labels = batch['labels']\n",
    "label_names = ['airplane', 'automobile', 'bird', 'cat', 'deer', 'dog', 'frog', 'horse', 'ship', 'truck']\n",
    "\n",
    "x = 100\n",
    "print(label_names[labels[x]])\n",
    "plt.axis('off')\n",
    "plt.imshow(features[x])\n",
    "plt.show()"
   ]
  },
  {
   "cell_type": "markdown",
   "metadata": {},
   "source": [
    "## 实现预处理函数\n",
    "\n",
    "### 标准化\n",
    "\n",
    "在下面的单元中，实现 `normalize` 函数，传入图片数据 `x`，并返回标准化 Numpy 数组。值应该在 0 到 1 的范围内（含 0 和 1）。返回对象应该和 `x` 的形状一样。\n"
   ]
  },
  {
   "cell_type": "code",
   "execution_count": 9,
   "metadata": {},
   "outputs": [],
   "source": [
    "def normalize(x):\n",
    "    \"\"\"\n",
    "    Normalize a list of sample image data in the range of 0 to 1\n",
    "    : x: List of image data.  The image shape is (32, 32, 3)\n",
    "    : return: Numpy array of normalize data\n",
    "    \"\"\"\n",
    "    # TODO: Implement Function\n",
    "    return  (x-x.min())/(x.max() - x.min())\n"
   ]
  },
  {
   "cell_type": "code",
   "execution_count": 10,
   "metadata": {},
   "outputs": [],
   "source": [
    "features_normal = normalize(features)\n",
    "#plt.imshow(features_normal[1])"
   ]
  },
  {
   "cell_type": "markdown",
   "metadata": {},
   "source": [
    "### One-hot 编码\n",
    "\n",
    "和之前的代码单元一样，你将为预处理实现一个函数。这次，你将实现 `one_hot_encode` 函数。输入，也就是 `x`，是一个标签列表。实现该函数，以返回为 one_hot 编码的 Numpy 数组的标签列表。标签的可能值为 0 到 9。每次调用 `one_hot_encode` 时，对于每个值，one_hot 编码函数应该返回相同的编码。确保将编码映射保存到该函数外面。\n",
    "\n",
    "提示：不要重复发明轮子。\n"
   ]
  },
  {
   "cell_type": "code",
   "execution_count": 11,
   "metadata": {},
   "outputs": [],
   "source": [
    "import pandas as pd\n",
    "\n",
    "def one_hot_encode(x):\n",
    "    \"\"\"\n",
    "    One hot encode a list of sample labels. Return a one-hot encoded vector for each label.\n",
    "    : x: List of sample Labels\n",
    "    : return: Numpy array of one-hot encoded labels\n",
    "    \"\"\"\n",
    "    # TODO: Implement Function\n",
    "    import numpy as np\n",
    "    ohot = np.zeros((len(x),10))\n",
    "    for i in range(len(x)):\n",
    "        ohot[i][x[i]] = 1\n",
    "    return ohot\n"
   ]
  },
  {
   "cell_type": "code",
   "execution_count": 31,
   "metadata": {},
   "outputs": [
    {
     "name": "stdout",
     "output_type": "stream",
     "text": [
      "6\n"
     ]
    },
    {
     "data": {
      "text/plain": [
       "array([ 0.,  0.,  0.,  0.,  0.,  0.,  1.,  0.,  0.,  0.])"
      ]
     },
     "execution_count": 31,
     "metadata": {},
     "output_type": "execute_result"
    }
   ],
   "source": [
    "labels_ohot = one_hot_encode(labels)\n",
    "print(labels[1])\n",
    "labels_ohot[1]"
   ]
  },
  {
   "cell_type": "markdown",
   "metadata": {},
   "source": [
    "## 构建cnn网络\n",
    "\n"
   ]
  },
  {
   "cell_type": "markdown",
   "metadata": {
    "slideshow": {
     "slide_type": "slide"
    }
   },
   "source": [
    "\n",
    "\n",
    "### 卷积\n",
    "\n",
    "卷积层实现对图片对特征表示。说简单点，就是用滤波器去提取图片中的特征，比如线条、颜色等；再通过不同层之间多滤波器对特征进行组合。\n",
    "<img style=\"width: 25cm;\" src=\"lenet-5.png\"/>\n",
    "\n",
    "\n",
    "涉及的主要概念有，滤波器（filter，也会叫kernel）：patch, stride，depth，padding；  \n",
    "参数共享和激活函数。\n",
    "\n",
    "**滤波器**  \n",
    "用来实现特征提取\n",
    "<img style=\"width: 10cm;\" src=\"conv.jpeg\"/>\n",
    "\n",
    "**padding**\n",
    "<img style=\"width: 15cm\" src = \"padding.png\">\n",
    "\n",
    "TensorFlow 使用如下等式计算 SAME 、VALID PADDING\n",
    "\n",
    "SAME Padding   \n",
    "输出的高和宽，计算如下：  \n",
    "out_height = ceil(float(in_height) / float(strides1))  \n",
    "out_width = ceil(float(in_width) / float(strides[2]))\n",
    "\n",
    "VALID Padding  \n",
    "输出的高和宽，计算如下：  \n",
    "out_height = ceil(float(in_height - filter_height + 1) / float(strides1))  \n",
    "out_width = ceil(float(in_width - filter_width + 1) / float(strides[2]))\n",
    "\n",
    "\n",
    "**参数共享**  \n",
    "每个patch都共用一个权重矩阵。\n",
    "\n",
    "**激活函数**  \n",
    "常用到Relu，Leaky Relu。\n",
    "<img style=\"width: 10cm;\" src=\"relu.png\"/>\n"
   ]
  },
  {
   "cell_type": "markdown",
   "metadata": {},
   "source": [
    "### pooling\n",
    "\n",
    "池化层总的来说是用来**减少输出大小**和**避免过拟合**。\n",
    "一个直观的效果是，可以克服位置偏移带来的干扰。  \n",
    "<img style=\"width: 10cm;\" src=\"max_pool.jpeg\"/>\n",
    "\n",
    "\n",
    "近期，池化层并不是很受青睐。部分原因是：\n",
    "\n",
    "现在的数据集又大又复杂，我们更关心欠拟合问题。  \n",
    "Dropout 是一个更好的正则化方法。  \n",
    "池化导致信息损失。想想最大池化的例子，n 个数字中我们只保留最大的，把余下的 n-1 完全舍弃了。\n"
   ]
  },
  {
   "cell_type": "markdown",
   "metadata": {},
   "source": [
    "### dropout\n",
    "<img style = \"width: 15cm;\" src = \"dropout.jpeg\">\n",
    "\n",
    "**仿人类**  \n",
    "**类似于bagging思想**\n"
   ]
  },
  {
   "cell_type": "code",
   "execution_count": 13,
   "metadata": {
    "collapsed": true
   },
   "outputs": [],
   "source": [
    "def cnn_network(image_input,keep_prob):\n",
    "    # 32*32*3 conv to 16*16*64\n",
    "    layer = tf.layers.conv2d(image_input, 64, 5, 2, padding = 'same')\n",
    "    layer = tf.nn.relu(layer)\n",
    "    \n",
    "    # 16*16*64 max_pool  8*8*64\n",
    "#     layer = tf.nn.max_pool(layer,ksize=[1, 2, 2, 1],strides=[1, 2, 2, 1],padding='SAME')\n",
    "    \n",
    "    # 8*8*64 conv to 4*4*128\n",
    "    layer = tf.layers.conv2d(layer, 128, 5, 2, padding = 'same')\n",
    "    layer = tf.nn.relu(layer)\n",
    "    \n",
    "    # 4*4*128 conv to 2*2*128\n",
    "#     layer = tf.nn.max_pool(layer,ksize=[1, 2, 2, 1],strides=[1, 2, 2, 1],padding='SAME')\n",
    "    \n",
    "    \n",
    "    # 2*2*128 conv to 1*1*256\n",
    "#     layer = tf.layers.conv2d(layer, 256, 5, 2, padding = 'same')\n",
    "#     layer = tf.nn.relu(layer)\n",
    "    \n",
    "    # flatten layer\n",
    "    batch,h,w,c = layer.shape.as_list()\n",
    "    layer = tf.reshape(layer, [-1, h * w * c])\n",
    "    \n",
    "    # fully connected layer\n",
    "    output = tf.layers.dense(layer,10)\n",
    "    output = tf.nn.dropout(output,keep_prob)\n",
    "    \n",
    "    return output"
   ]
  },
  {
   "cell_type": "markdown",
   "metadata": {},
   "source": [
    "### 构建tensorflow\n",
    "tensorflow需要先构建tensor board，随后在Session里，通过feed_dict把数据传进去，再做运算。"
   ]
  },
  {
   "cell_type": "code",
   "execution_count": 14,
   "metadata": {},
   "outputs": [],
   "source": [
    "##############################\n",
    "## Build the Neural Network ##\n",
    "##############################\n",
    "\n",
    "import tensorflow as tf\n",
    "# Remove previous weights, bias, inputs, etc..\n",
    "tf.reset_default_graph()\n",
    "\n",
    "# Inputs\n",
    "image = tf.placeholder(tf.float32, (None, 32, 32, 3), name = 'image')\n",
    "label = tf.placeholder(tf.int32, (None, 10), name = 'label')\n",
    "keep_prob = tf.placeholder(tf.float32, name = 'keep_prob')\n",
    "\n",
    "# Model\n",
    "logits = cnn_network(image, keep_prob)\n",
    "\n",
    "# Name logits Tensor, so that is can be loaded from disk after training\n",
    "logits = tf.identity(logits, name='logits')\n",
    "\n",
    "# Loss and Optimizer\n",
    "cost = tf.reduce_mean(tf.nn.softmax_cross_entropy_with_logits(logits=logits, labels=label))\n",
    "optimizer = tf.train.AdamOptimizer().minimize(cost)\n",
    "\n",
    "# Accuracy\n",
    "correct_pred = tf.equal(tf.argmax(logits, 1), tf.argmax(label, 1))\n",
    "accuracy = tf.reduce_mean(tf.cast(correct_pred, tf.float32), name='accuracy')\n",
    "\n"
   ]
  },
  {
   "cell_type": "markdown",
   "metadata": {},
   "source": [
    "## 训练神经网络\n",
    "\n",
    "### batch\n",
    "batch大小对结果影响很大，是主要调参对象。batch小，error震荡厉害，稍微大，更平滑。\n"
   ]
  },
  {
   "cell_type": "code",
   "execution_count": 15,
   "metadata": {
    "collapsed": true
   },
   "outputs": [],
   "source": [
    "def batch_features_labels(features, labels, batch_size):\n",
    "    \"\"\"\n",
    "    Split features and labels into batches\n",
    "    \"\"\"\n",
    "    for start in range(0, len(features), batch_size):\n",
    "        end = min(start + batch_size, len(features))\n",
    "        yield features[start:end], labels[start:end]\n"
   ]
  },
  {
   "cell_type": "markdown",
   "metadata": {},
   "source": [
    "### 单次优化\n"
   ]
  },
  {
   "cell_type": "code",
   "execution_count": 16,
   "metadata": {},
   "outputs": [],
   "source": [
    "def train_neural_network(session, optimizer, keep_probability, feature_batch, label_batch):\n",
    "    \"\"\"\n",
    "    Optimize the session on a batch of images and labels\n",
    "    : session: Current TensorFlow session\n",
    "    : optimizer: TensorFlow optimizer function\n",
    "    : keep_probability: keep probability\n",
    "    : feature_batch: Batch of Numpy image data\n",
    "    : label_batch: Batch of Numpy label data\n",
    "    \"\"\"\n",
    "    # TODO: Implement Function\n",
    "    session.run(optimizer,feed_dict={\n",
    "                image: feature_batch,\n",
    "                label: label_batch,\n",
    "                keep_prob: keep_probability})"
   ]
  },
  {
   "cell_type": "markdown",
   "metadata": {},
   "source": [
    "### 显示训练过程"
   ]
  },
  {
   "cell_type": "code",
   "execution_count": 17,
   "metadata": {},
   "outputs": [],
   "source": [
    "def print_stats(session, feature_batch, label_batch, cost, accuracy):\n",
    "    \"\"\"\n",
    "    Print information about loss and validation accuracy\n",
    "    : session: Current TensorFlow session\n",
    "    : feature_batch: Batch of Numpy image data\n",
    "    : label_batch: Batch of Numpy label data\n",
    "    : cost: TensorFlow cost function\n",
    "    : accuracy: TensorFlow accuracy function\n",
    "    \"\"\"\n",
    "    # TODO: Implement Function\n",
    "    loss = sess.run(cost, feed_dict={\n",
    "                image: feature_batch,\n",
    "                label: label_batch,\n",
    "                keep_prob: 1.})\n",
    "#     valid_acc = sess.run(accuracy, feed_dict={\n",
    "#                 image: valid_features,\n",
    "#                 label: valid_labels,\n",
    "#                 keep_prob: 1.})\n",
    "\n",
    "    print('Loss: {:>10.4f} Validation Accuracy: {:.6f}'.format(\n",
    "                loss,#valid_acc\n",
    "                0))"
   ]
  },
  {
   "cell_type": "markdown",
   "metadata": {},
   "source": [
    "### 超参数\n",
    "\n",
    "调试以下超参数：\n",
    "* 设置 `epochs` 表示神经网络停止学习或开始过拟合的迭代次数\n",
    "* 设置 `batch_size`，表示机器内存允许的部分最大体积。大部分人设为以下常见内存大小：\n",
    "\n",
    " * 64\n",
    " * 128\n",
    " * 256\n",
    " * ...\n",
    "* 设置 `keep_probability` 表示使用丢弃时保留节点的概率"
   ]
  },
  {
   "cell_type": "code",
   "execution_count": 18,
   "metadata": {
    "collapsed": true
   },
   "outputs": [],
   "source": [
    "# TODO: Tune Parameters\n",
    "epochs = 10\n",
    "batch_size = 128\n",
    "keep_probability = 0.8"
   ]
  },
  {
   "cell_type": "markdown",
   "metadata": {},
   "source": [
    "### 在单个 CIFAR-10 部分上训练\n",
    "\n",
    "我们先用单个部分，而不是用所有的 CIFAR-10 批次训练神经网络。这样可以节省时间，并对模型进行迭代，以提高准确率。最终验证准确率达到 50% 或以上之后，在下一部分对所有数据运行模型。\n"
   ]
  },
  {
   "cell_type": "code",
   "execution_count": 19,
   "metadata": {},
   "outputs": [
    {
     "name": "stdout",
     "output_type": "stream",
     "text": [
      "Checking the Training on a Single Batch...\n",
      "Epoch  1, CIFAR-10 Batch 2:  Loss:     1.7105 Validation Accuracy: 0.000000\n",
      "Epoch  2, CIFAR-10 Batch 2:  Loss:     1.3441 Validation Accuracy: 0.000000\n",
      "Epoch  3, CIFAR-10 Batch 2:  Loss:     1.0880 Validation Accuracy: 0.000000\n",
      "Epoch  4, CIFAR-10 Batch 2:  Loss:     0.9795 Validation Accuracy: 0.000000\n",
      "Epoch  5, CIFAR-10 Batch 2:  Loss:     0.6985 Validation Accuracy: 0.000000\n",
      "Epoch  6, CIFAR-10 Batch 2:  Loss:     0.5059 Validation Accuracy: 0.000000\n",
      "Epoch  7, CIFAR-10 Batch 2:  Loss:     0.4633 Validation Accuracy: 0.000000\n",
      "Epoch  8, CIFAR-10 Batch 2:  Loss:     0.3535 Validation Accuracy: 0.000000\n",
      "Epoch  9, CIFAR-10 Batch 2:  Loss:     0.2605 Validation Accuracy: 0.000000\n",
      "Epoch 10, CIFAR-10 Batch 2:  Loss:     0.2552 Validation Accuracy: 0.000000\n"
     ]
    }
   ],
   "source": [
    "\"\"\"\n",
    "DON'T MODIFY ANYTHING IN THIS CELL\n",
    "\"\"\"\n",
    "print('Checking the Training on a Single Batch...')\n",
    "save_model_path = './image_classification'\n",
    "with tf.Session() as sess:\n",
    "    # Initializing the variables\n",
    "    sess.run(tf.global_variables_initializer())\n",
    "    \n",
    "    # Training cycle\n",
    "    for epoch in range(epochs):\n",
    "        batch_i = 2\n",
    "        for batch_features, batch_labels in batch_features_labels(features_normal, labels_ohot, batch_size):\n",
    "            train_neural_network(sess, optimizer, keep_probability, batch_features, batch_labels)\n",
    "        print('Epoch {:>2}, CIFAR-10 Batch {}:  '.format(epoch + 1, batch_i), end='')\n",
    "        print_stats(sess, batch_features, batch_labels, cost, accuracy)\n",
    "        \n",
    "    # Save Model\n",
    "    saver = tf.train.Saver()\n",
    "    save_path = saver.save(sess, save_model_path)"
   ]
  },
  {
   "cell_type": "markdown",
   "metadata": {},
   "source": [
    "### 测试模型\n",
    "加载模型节点"
   ]
  },
  {
   "cell_type": "code",
   "execution_count": 32,
   "metadata": {},
   "outputs": [
    {
     "name": "stdout",
     "output_type": "stream",
     "text": [
      "(214, 299, 3)\n"
     ]
    },
    {
     "data": {
      "image/png": "[encoded data removed]",
      "text/plain": [
       "<matplotlib.figure.Figure at 0x113cb8860>"
      ]
     },
     "metadata": {},
     "output_type": "display_data"
    }
   ],
   "source": [
    "#读取jpeg格式\n",
    "import matplotlib.image as img\n",
    "import matplotlib.pyplot as plt\n",
    "\n",
    "# dog = img.imread('dog_online.jpeg')\n",
    "# cat = img.imread('cat.jpeg')\n",
    "\n",
    "# ship1 = img.imread('ship_online.jpeg')\n",
    "# ship2 = img.imread('ship.jpg')\n",
    "# ship3 = img.imread('ship_online.png')\n",
    "# simple_shipe = img.imread('simple_ship.jpeg')\n",
    "# simple_shipe2 = img.imread('simple_ship.png')\n",
    "# douhao = img.imread('逗号.jpeg')\n",
    "\n",
    "online_image = img.imread('ship_online.jpeg')\n",
    "print(online_image.shape)\n",
    "plt.imshow(online_image)\n",
    "plt.show()"
   ]
  },
  {
   "cell_type": "markdown",
   "metadata": {},
   "source": [
    "### 图片缩放和裁剪\n",
    "按比例缩放，再裁剪\n",
    "\n",
    "对原图片按比例缩放再裁减成指定大小，一般会裁多个，中心裁，边缘裁，或者随机裁。将不同对裁剪图片分别用模型跑，最后结果再平均。\n",
    "\n",
    "\n",
    "**举例**\n",
    "imageNet上的输入图片的处理就是这么适应输入的，常用的输入大小227x227,358x368等等\n",
    "\n",
    "以227x227为目标\n",
    "短边缩放到227，保持宽高比不变。然后用227x227的窗口截图。\n",
    "\n",
    "也可以先缩放到更大到尺寸，比如256x256，再裁剪\n",
    "\n",
    "\n",
    "ps：先标准化之后，再缩放裁剪，效果更好。"
   ]
  },
  {
   "cell_type": "code",
   "execution_count": 33,
   "metadata": {},
   "outputs": [],
   "source": [
    "online_image = normalize(online_image[:,:,:3])\n",
    "# plt.imshow(online_image)\n",
    "# plt.show()"
   ]
  },
  {
   "cell_type": "code",
   "execution_count": 34,
   "metadata": {},
   "outputs": [
    {
     "name": "stderr",
     "output_type": "stream",
     "text": [
      "/Users/LGB/anaconda/lib/python3.6/site-packages/skimage/transform/_warps.py:84: UserWarning: The default mode, 'constant', will be changed to 'reflect' in skimage 0.15.\n",
      "  warn(\"The default mode, 'constant', will be changed to 'reflect' in \"\n"
     ]
    },
    {
     "data": {
      "image/png": "[encoded data removed]",
      "text/plain": [
       "<matplotlib.figure.Figure at 0x13b629a90>"
      ]
     },
     "metadata": {},
     "output_type": "display_data"
    }
   ],
   "source": [
    "from skimage import transform\n",
    "h,w,c = online_image.shape\n",
    "if h < w :\n",
    "    online_image=transform.resize(online_image, (32,round(w/h*32)))\n",
    "    h,w,c = online_image.shape\n",
    "    online_image = online_image[:,(w-h):,:]\n",
    "else:\n",
    "    online_image=transform.resize(online_image, (round(h/w*32),32))\n",
    "    h,w,c = online_image.shape\n",
    "    online_image = online_image[:,(w-h):,:]\n",
    "\n",
    "plt.imshow(online_image)\n",
    "plt.show()"
   ]
  },
  {
   "cell_type": "code",
   "execution_count": 35,
   "metadata": {},
   "outputs": [],
   "source": [
    "online_image = normalize(online_image[:,:,:3])\n",
    "#plt.imshow(online_image)\n",
    "#plt.show()"
   ]
  },
  {
   "cell_type": "markdown",
   "metadata": {},
   "source": [
    "### 新数据跑模型"
   ]
  },
  {
   "cell_type": "code",
   "execution_count": 36,
   "metadata": {},
   "outputs": [
    {
     "data": {
      "text/plain": [
       "(1, 32, 32, 3)"
      ]
     },
     "execution_count": 36,
     "metadata": {},
     "output_type": "execute_result"
    }
   ],
   "source": [
    "import numpy as np\n",
    "test_feature = online_image.reshape(1,32,32,3)\n",
    "test_label = np.zeros_like(labels_ohot[1])\n",
    "test_label = test_label.reshape(1,10)\n",
    "test_feature.shape"
   ]
  },
  {
   "cell_type": "code",
   "execution_count": 37,
   "metadata": {},
   "outputs": [
    {
     "name": "stdout",
     "output_type": "stream",
     "text": [
      "INFO:tensorflow:Restoring parameters from ./image_classification\n",
      "Testing Accuracy: 0.0\n",
      "\n"
     ]
    }
   ],
   "source": [
    "\n",
    "loaded_graph = tf.Graph()\n",
    "\n",
    "with tf.Session(graph=loaded_graph) as sess:\n",
    "    # Load model\n",
    "    loader = tf.train.import_meta_graph(save_model_path + '.meta')\n",
    "    loader.restore(sess, save_model_path)\n",
    "\n",
    "    # Get Tensors from loaded model\n",
    "    loaded_image = loaded_graph.get_tensor_by_name('image:0')\n",
    "    loaded_label = loaded_graph.get_tensor_by_name('label:0')\n",
    "    loaded_keep_prob = loaded_graph.get_tensor_by_name('keep_prob:0')\n",
    "    loaded_logits = loaded_graph.get_tensor_by_name('logits:0')\n",
    "    loaded_acc = loaded_graph.get_tensor_by_name('accuracy:0')\n",
    "        \n",
    "    test_batch_acc_total = sess.run(\n",
    "                loaded_acc,\n",
    "                feed_dict={loaded_image: test_feature, loaded_label: test_label, loaded_keep_prob: 1.0})\n",
    "\n",
    "    print('Testing Accuracy: {}\\n'.format(test_batch_acc_total))\n",
    "\n",
    "    # Print Random Samples\n",
    "    random_test_predictions = sess.run(\n",
    "            tf.nn.top_k(tf.nn.softmax(loaded_logits), 3),\n",
    "            feed_dict={loaded_image: test_feature, loaded_label: test_label, loaded_keep_prob: 1.0})\n"
   ]
  },
  {
   "cell_type": "code",
   "execution_count": 38,
   "metadata": {},
   "outputs": [
    {
     "data": {
      "image/png": "[encoded data removed]",
      "text/plain": [
       "<matplotlib.figure.Figure at 0x115a27b70>"
      ]
     },
     "metadata": {},
     "output_type": "display_data"
    }
   ],
   "source": [
    "fig, axies = plt.subplots(nrows=1, ncols=2)\n",
    "fig.tight_layout()\n",
    "fig.suptitle('Softmax Predictions', fontsize=20, y=1.1)\n",
    "\n",
    "n_predictions = 3\n",
    "margin = 0.05\n",
    "ind = np.arange(n_predictions)\n",
    "width = (1. - 2. * margin) / n_predictions\n",
    "\n",
    "pred_indices = random_test_predictions.indices\n",
    "pred_names = [label_names[pred_i] for pred_i in random_test_predictions.indices[0]]\n",
    "correct_name = 'dog'\n",
    "\n",
    "axies[0].imshow(online_image)\n",
    "axies[0].set_title(correct_name)\n",
    "axies[0].set_axis_off()\n",
    "\n",
    "axies[1].barh(ind + margin, random_test_predictions.values[0][::-1], width)\n",
    "axies[1].set_yticks(ind + margin)\n",
    "axies[1].set_yticklabels(pred_names[::-1])\n",
    "axies[1].set_xticks([0, 0.5, 1.0])\n",
    "plt.show()\n",
    "\n"
   ]
  },
  {
   "cell_type": "markdown",
   "metadata": {},
   "source": [
    "## GAN\n",
    "**gan_diagram**  \n",
    "<img src = 'gan_diagram.png' style= 'width:15cm'>  \n",
    "**gan_network**  \n",
    "<img src = 'gan_network.png' style= 'width:15cm'>\n"
   ]
  },
  {
   "cell_type": "code",
   "execution_count": 28,
   "metadata": {
    "collapsed": true
   },
   "outputs": [],
   "source": [
    "def model_inputs(image_width, image_height, image_channels, z_dim):\n",
    "    \"\"\"\n",
    "    Create the model inputs\n",
    "    :param image_width: The input image width\n",
    "    :param image_height: The input image height\n",
    "    :param image_channels: The number of image channels\n",
    "    :param z_dim: The dimension of Z\n",
    "    :return: Tuple of (tensor of real input images, tensor of z data, learning rate)\n",
    "    \"\"\"\n",
    "    # TODO: Implement Function\n",
    "    input_real = tf.placeholder(tf.float32, (None, image_width, image_height, image_channels),\n",
    "                                  name = 'input_real')\n",
    "    input_z = tf.placeholder(tf.float32,(None, z_dim), name = 'input_z')\n",
    "    learnging_rate = tf.placeholder(tf.float32, name = 'learnging_rate')\n",
    "\n",
    "    return input_real, input_z, learnging_rate"
   ]
  },
  {
   "cell_type": "markdown",
   "metadata": {},
   "source": [
    "### batch_normalization\n"
   ]
  },
  {
   "cell_type": "code",
   "execution_count": 29,
   "metadata": {
    "collapsed": true
   },
   "outputs": [],
   "source": [
    "def discriminator(images, reuse=False):\n",
    "    \"\"\"\n",
    "    Create the discriminator network\n",
    "    :param image: Tensor of input image(s)\n",
    "    :param reuse: Boolean if the weights should be reused\n",
    "    :return: Tuple of (tensor output of the discriminator, tensor logits of the discriminator)\n",
    "    \"\"\"\n",
    "    # TODO: Implement Function\n",
    "    with tf.variable_scope('discriminator', reuse = reuse):\n",
    "        \n",
    "        alpha = 0.2\n",
    "        \n",
    "        # 32*32*3 conv to 16x16x64\n",
    "        h1 = tf.layers.conv2d(images, 64, 5, 2, padding = 'same',\n",
    "                              kernel_initializer=tf.contrib.layers.xavier_initializer())\n",
    "        h1 = tf.maximum(alpha * h1, h1)\n",
    "        h1 = tf.nn.dropout(h1, 0.8)\n",
    "        \n",
    "        #16x16x64 conv to 8x8x128\n",
    "        h2 = tf.layers.conv2d(h1, 128, 5, 2, padding = 'same',\n",
    "                             kernel_initializer=tf.contrib.layers.xavier_initializer())\n",
    "        h2 = tf.layers.batch_normalization(h2, training = True)\n",
    "        h2 = tf.maximum(alpha * h2, h2)\n",
    "        h2 = tf.nn.dropout(h2, 0.8)\n",
    "        \n",
    "        #8x8x128 conv to 4x4x256\n",
    "        h3 = tf.layers.conv2d(h2, 256, 5, 2, padding = 'same',\n",
    "                             kernel_initializer = tf.contrib.layers.xavier_initializer())\n",
    "        h3 = tf.layers.batch_normalization(h3, training = True)\n",
    "        h3 = tf.maximum(alpha * h3, h3)\n",
    "        h3 = tf.nn.dropout(h3, 0.8)\n",
    "        \n",
    "        flat = tf.reshape(h3, (-1, 4*4*256))\n",
    "        logits = tf.layers.dense(flat, 1)\n",
    "        out = tf.sigmoid(logits)\n",
    "\n",
    "    return logits, out"
   ]
  },
  {
   "cell_type": "code",
   "execution_count": 30,
   "metadata": {
    "collapsed": true
   },
   "outputs": [],
   "source": [
    "def generator(z, out_channel_dim, is_train=True):\n",
    "    \"\"\"\n",
    "    Create the generator network\n",
    "    :param z: Input z\n",
    "    :param out_channel_dim: The number of channels in the output image\n",
    "    :param is_train: Boolean if generator is being used for training\n",
    "    :return: The tensor output of the generator\n",
    "    \"\"\"\n",
    "    # TODO: Implement Function\n",
    "    with tf.variable_scope('generator', reuse = not is_train):\n",
    "        \n",
    "        alpha = 0.2\n",
    "        \n",
    "        #fully connected layer to \n",
    "        h1 = tf.layers.dense(z, 4*4*256)\n",
    "        h1 = tf.reshape(h1, (-1, 4, 4, 256))\n",
    "        h1 = tf.layers.batch_normalization(h1, training = is_train)\n",
    "        h1 = tf.maximum(alpha * h1, h1)\n",
    "        \n",
    "        #4*4*256 trans_conv to 8x8x128\n",
    "        h2 = tf.layers.conv2d_transpose(h1, 128, 5, 2, padding = 'same',\n",
    "                                        kernel_initializer=tf.contrib.layers.xavier_initializer())\n",
    "        h2 = tf.layers.batch_normalization(h2, training = is_train)\n",
    "        h2 = tf.maximum(alpha * h2, h2)\n",
    "        h2 = tf.nn.dropout(h2, 0.8)\n",
    "        \n",
    "        #8x8x128 trans_conv to 16x16x64\n",
    "        h3 = tf.layers.conv2d_transpose(h2, 64, 5, 2, padding = 'same',\n",
    "                                        kernel_initializer=tf.contrib.layers.xavier_initializer())\n",
    "        h3 = tf.layers.batch_normalization(h3, training = is_train)\n",
    "        h3 = tf.maximum(alpha * h3, h3)\n",
    "        h3 = tf.nn.dropout(h3, 0.8)     \n",
    "\n",
    "        #16x16x64 trans_conv to 32x32xout_channel_dim\n",
    "        logits = tf.layers.conv2d_transpose(h3, out_channel_dim, 5, 2, padding = 'same',\n",
    "                                       kernel_initializer = tf.contrib.layers.xavier_initializer())\n",
    "        out = tf.tanh(logits)\n",
    "        \n",
    "        \n",
    "    return out"
   ]
  },
  {
   "cell_type": "markdown",
   "metadata": {},
   "source": [
    "### 辨别器的损失函数平滑\n"
   ]
  },
  {
   "cell_type": "code",
   "execution_count": 57,
   "metadata": {
    "collapsed": true
   },
   "outputs": [],
   "source": [
    "def model_loss(input_real, input_z, out_channel_dim):\n",
    "    \"\"\"\n",
    "    Get the loss for the discriminator and generator\n",
    "    :param input_real: Images from the real dataset\n",
    "    :param input_z: Z input\n",
    "    :param out_channel_dim: The number of channels in the output image\n",
    "    :return: A tuple of (discriminator loss, generator loss)\n",
    "    \"\"\"\n",
    "    # TODO: Implement Function\n",
    "    input_g = generator(input_z, out_channel_dim, is_train = True)\n",
    "    d_real_logits, d_real_out = discriminator(input_real, reuse = False)\n",
    "    d_fake_logits, d_fake_out = discriminator(input_g, reuse = True)\n",
    "    \n",
    "    d_real_loss = tf.reduce_mean(tf.nn.sigmoid_cross_entropy_with_logits(logits = d_real_logits, \n",
    "                                                                         labels = tf.ones_like(d_real_out) * 0.9))\n",
    "    d_fake_loss = tf.reduce_mean(tf.nn.sigmoid_cross_entropy_with_logits(logits = d_fake_logits,\n",
    "                                                                        labels = tf.zeros_like(d_fake_out)))\n",
    "    g_loss = tf.reduce_mean(tf.nn.sigmoid_cross_entropy_with_logits(logits = d_fake_logits,\n",
    "                                                                   labels = tf.ones_like(d_fake_out)))\n",
    "    d_loss = d_real_loss + d_fake_loss\n",
    "    \n",
    "    return d_loss, g_loss"
   ]
  },
  {
   "cell_type": "code",
   "execution_count": 58,
   "metadata": {
    "collapsed": true
   },
   "outputs": [],
   "source": [
    "def model_opt(d_loss, g_loss, learning_rate, beta1):\n",
    "    \"\"\"\n",
    "    Get optimization operations\n",
    "    :param d_loss: Discriminator loss Tensor\n",
    "    :param g_loss: Generator loss Tensor\n",
    "    :param learning_rate: Learning Rate Placeholder\n",
    "    :param beta1: The exponential decay rate for the 1st moment in the optimizer\n",
    "    :return: A tuple of (discriminator training operation, generator training operation)\n",
    "    \"\"\"\n",
    "    # TODO: Implement Function\n",
    "    t_vars = tf.trainable_variables()\n",
    "    d_var = [var for var in t_vars if var.name.startswith('discriminator')]\n",
    "    g_var = [var for var in t_vars if var.name.startswith('generator')]\n",
    "    \n",
    "    with tf.control_dependencies(tf.get_collection(tf.GraphKeys.UPDATE_OPS)):\n",
    "        d_train_opt = tf.train.AdamOptimizer(learning_rate, beta1 = beta1).minimize(d_loss, var_list = d_var)\n",
    "        g_train_opt = tf.train.AdamOptimizer(learning_rate, beta1 = beta1).minimize(g_loss, var_list = g_var)\n",
    "    \n",
    "    \n",
    "    return d_train_opt, g_train_opt"
   ]
  },
  {
   "cell_type": "markdown",
   "metadata": {},
   "source": [
    "### 输出显示\n",
    "使用该函数可以显示生成器 (Generator) 在训练过程中的当前输出，这会帮你评估 GANs 模型的训练程度。\n"
   ]
  },
  {
   "cell_type": "code",
   "execution_count": 59,
   "metadata": {
    "collapsed": true
   },
   "outputs": [],
   "source": [
    "import math\n",
    "from PIL import Image\n",
    "\n",
    "def images_square_grid(images, mode):\n",
    "    \"\"\"\n",
    "    Save images as a square grid\n",
    "    :param images: Images to be used for the grid\n",
    "    :param mode: The mode to use for images\n",
    "    :return: Image of images in a square grid\n",
    "    \"\"\"\n",
    "    # Get maximum size for square grid of images\n",
    "    save_size = math.floor(np.sqrt(images.shape[0]))\n",
    "\n",
    "    # Scale to 0-255\n",
    "    images = (((images - images.min()) * 255) / (images.max() - images.min())).astype(np.uint8)\n",
    "\n",
    "    # Put images in a square arrangement\n",
    "    images_in_square = np.reshape(\n",
    "            images[:save_size*save_size],\n",
    "            (save_size, save_size, images.shape[1], images.shape[2], images.shape[3]))\n",
    "    if mode == 'L':\n",
    "        images_in_square = np.squeeze(images_in_square, 4)\n",
    "\n",
    "    # Combine images to grid image\n",
    "    new_im = Image.new(mode, (images.shape[1] * save_size, images.shape[2] * save_size))\n",
    "    for col_i, col_images in enumerate(images_in_square):\n",
    "        for image_i, image in enumerate(col_images):\n",
    "            im = Image.fromarray(image, mode)\n",
    "            new_im.paste(im, (col_i * images.shape[1], image_i * images.shape[2]))\n",
    "\n",
    "    return new_im"
   ]
  },
  {
   "cell_type": "code",
   "execution_count": 60,
   "metadata": {
    "collapsed": true
   },
   "outputs": [],
   "source": [
    "\"\"\"\n",
    "DON'T MODIFY ANYTHING IN THIS CELL\n",
    "\"\"\"\n",
    "import numpy as np\n",
    "\n",
    "def show_generator_output(sess_2, n_images, input_z, out_channel_dim, image_mode):\n",
    "    \"\"\"\n",
    "    Show example output for the generator\n",
    "    :param sess: TensorFlow session\n",
    "    :param n_images: Number of Images to display\n",
    "    :param input_z: Input Z Tensor\n",
    "    :param out_channel_dim: The number of channels in the output image\n",
    "    :param image_mode: The mode to use for images (\"RGB\" or \"L\")\n",
    "    \"\"\"\n",
    "    cmap = None if image_mode == 'RGB' else 'gray'\n",
    "    z_dim = input_z.get_shape().as_list()[-1]\n",
    "    example_z = np.random.uniform(-1, 1, size=[n_images, z_dim])\n",
    "\n",
    "    samples = sess_2.run(\n",
    "        generator(input_z, out_channel_dim, False),\n",
    "        feed_dict={input_z: example_z})\n",
    "\n",
    "    images_grid = images_square_grid(samples, image_mode)\n",
    "    plt.imshow(images_grid, cmap=cmap)\n",
    "    plt.show()"
   ]
  },
  {
   "cell_type": "markdown",
   "metadata": {},
   "source": [
    "image rescale to (-1,1)"
   ]
  },
  {
   "cell_type": "code",
   "execution_count": 61,
   "metadata": {
    "collapsed": true
   },
   "outputs": [],
   "source": [
    "def train(image_input,epoch_count, batch_size, z_dim, learning_rate, beta1, get_batches, data_shape, data_image_mode):\n",
    "    \"\"\"\n",
    "    Train the GAN\n",
    "    :param epoch_count: Number of epochs\n",
    "    :param batch_size: Batch Size\n",
    "    :param z_dim: Z dimension\n",
    "    :param learning_rate: Learning Rate\n",
    "    :param beta1: The exponential decay rate for the 1st moment in the optimizer\n",
    "    :param get_batches: Function to get batches\n",
    "    :param data_shape: Shape of the data\n",
    "    :param data_image_mode: The image mode to use for images (\"RGB\" or \"L\")\n",
    "    \"\"\"\n",
    "    # TODO: Build Model\n",
    "    \n",
    "    _, image_width, image_height, image_channels = data_shape\n",
    "    \n",
    "    input_real, input_z, lr = model_inputs(image_width, image_height, image_channels, z_dim)\n",
    "    \n",
    "    d_loss, g_loss = model_loss(input_real, input_z, image_channels)\n",
    "    \n",
    "    d_train_opt, g_train_opt = model_opt(d_loss, g_loss, learning_rate, beta1)\n",
    "    \n",
    "    losses = []\n",
    "    step = 0\n",
    "    show_every = 100\n",
    "    print_every = 10\n",
    "    n_images = 25\n",
    "    \n",
    "    with tf.Session() as sess_2:\n",
    "        sess_2.run(tf.global_variables_initializer())\n",
    "        for epoch_i in range(epoch_count):\n",
    "            for batch_images in get_batches(image_input,batch_size):\n",
    "                # TODO: Train Model\n",
    "                step += 1\n",
    "                batch_images *= 2.0\n",
    "                \n",
    "                batch_z = np.random.uniform(-1, 1, (batch_size, z_dim))\n",
    "                \n",
    "                _ = sess_2.run(d_train_opt, feed_dict = {input_real: batch_images, input_z: batch_z, lr: learning_rate})\n",
    "                _ = sess_2.run(g_train_opt, feed_dict = {input_real: batch_images, input_z: batch_z, lr: learning_rate})\n",
    "                \n",
    "                if step%print_every == 0:\n",
    "                    train_loss_d = d_loss.eval({input_real: batch_images, input_z: batch_z})\n",
    "                    train_loss_g = g_loss.eval({input_z: batch_z})\n",
    "                    \n",
    "                    print(\"Epoch {}/{}...\".format(epoch_i + 1, epoch_count),\n",
    "                         \"Discriminator Loss: {:.4f}...\".format(train_loss_d),\n",
    "                         \"Generator Loss: {:.4f}...\".format(train_loss_g))\n",
    "                    losses.append((train_loss_d, train_loss_g))\n",
    "                    \n",
    "                if step%show_every == 0:\n",
    "                    show_generator_output(sess_2, n_images, input_z, image_channels, data_image_mode)"
   ]
  },
  {
   "cell_type": "code",
   "execution_count": 62,
   "metadata": {
    "collapsed": true
   },
   "outputs": [],
   "source": [
    "def get_batches(features, batch_size):\n",
    "    \"\"\"\n",
    "    Split features and labels into batches\n",
    "    \"\"\"\n",
    "    for start in range(0, 10000, batch_size):\n",
    "        end = min(start + batch_size, 10000)\n",
    "        yield features[start:end]"
   ]
  },
  {
   "cell_type": "code",
   "execution_count": 66,
   "metadata": {
    "scrolled": true
   },
   "outputs": [
    {
     "name": "stdout",
     "output_type": "stream",
     "text": [
      "Epoch 1/1... Discriminator Loss: nan... Generator Loss: nan...\n",
      "Epoch 1/1... Discriminator Loss: nan... Generator Loss: nan...\n",
      "Epoch 1/1... Discriminator Loss: nan... Generator Loss: nan...\n"
     ]
    },
    {
     "ename": "KeyboardInterrupt",
     "evalue": "",
     "output_type": "error",
     "traceback": [
      "\u001b[0;31m---------------------------------------------------------------------------\u001b[0m",
      "\u001b[0;31mKeyboardInterrupt\u001b[0m                         Traceback (most recent call last)",
      "\u001b[0;32m<ipython-input-66-325eceb418b4>\u001b[0m in \u001b[0;36m<module>\u001b[0;34m()\u001b[0m\n\u001b[1;32m     14\u001b[0m \u001b[0;32mwith\u001b[0m \u001b[0mtf\u001b[0m\u001b[0;34m.\u001b[0m\u001b[0mGraph\u001b[0m\u001b[0;34m(\u001b[0m\u001b[0;34m)\u001b[0m\u001b[0;34m.\u001b[0m\u001b[0mas_default\u001b[0m\u001b[0;34m(\u001b[0m\u001b[0;34m)\u001b[0m\u001b[0;34m:\u001b[0m\u001b[0;34m\u001b[0m\u001b[0m\n\u001b[1;32m     15\u001b[0m     train(dataset,epochs, batch_size, z_dim, learning_rate, beta1, get_batches,\n\u001b[0;32m---> 16\u001b[0;31m           dataset.shape, \"RGB\")\n\u001b[0m",
      "\u001b[0;32m<ipython-input-61-faa78a995663>\u001b[0m in \u001b[0;36mtrain\u001b[0;34m(image_input, epoch_count, batch_size, z_dim, learning_rate, beta1, get_batches, data_shape, data_image_mode)\u001b[0m\n\u001b[1;32m     41\u001b[0m \u001b[0;34m\u001b[0m\u001b[0m\n\u001b[1;32m     42\u001b[0m                 \u001b[0;32mif\u001b[0m \u001b[0mstep\u001b[0m\u001b[0;34m%\u001b[0m\u001b[0mprint_every\u001b[0m \u001b[0;34m==\u001b[0m \u001b[0;36m0\u001b[0m\u001b[0;34m:\u001b[0m\u001b[0;34m\u001b[0m\u001b[0m\n\u001b[0;32m---> 43\u001b[0;31m                     \u001b[0mtrain_loss_d\u001b[0m \u001b[0;34m=\u001b[0m \u001b[0md_loss\u001b[0m\u001b[0;34m.\u001b[0m\u001b[0meval\u001b[0m\u001b[0;34m(\u001b[0m\u001b[0;34m{\u001b[0m\u001b[0minput_real\u001b[0m\u001b[0;34m:\u001b[0m \u001b[0mbatch_images\u001b[0m\u001b[0;34m,\u001b[0m \u001b[0minput_z\u001b[0m\u001b[0;34m:\u001b[0m \u001b[0mbatch_z\u001b[0m\u001b[0;34m}\u001b[0m\u001b[0;34m)\u001b[0m\u001b[0;34m\u001b[0m\u001b[0m\n\u001b[0m\u001b[1;32m     44\u001b[0m                     \u001b[0mtrain_loss_g\u001b[0m \u001b[0;34m=\u001b[0m \u001b[0mg_loss\u001b[0m\u001b[0;34m.\u001b[0m\u001b[0meval\u001b[0m\u001b[0;34m(\u001b[0m\u001b[0;34m{\u001b[0m\u001b[0minput_z\u001b[0m\u001b[0;34m:\u001b[0m \u001b[0mbatch_z\u001b[0m\u001b[0;34m}\u001b[0m\u001b[0;34m)\u001b[0m\u001b[0;34m\u001b[0m\u001b[0m\n\u001b[1;32m     45\u001b[0m \u001b[0;34m\u001b[0m\u001b[0m\n",
      "\u001b[0;32m/Users/LGB/anaconda/lib/python3.6/site-packages/tensorflow/python/framework/ops.py\u001b[0m in \u001b[0;36meval\u001b[0;34m(self, feed_dict, session)\u001b[0m\n\u001b[1;32m    604\u001b[0m \u001b[0;34m\u001b[0m\u001b[0m\n\u001b[1;32m    605\u001b[0m     \"\"\"\n\u001b[0;32m--> 606\u001b[0;31m     \u001b[0;32mreturn\u001b[0m \u001b[0m_eval_using_default_session\u001b[0m\u001b[0;34m(\u001b[0m\u001b[0mself\u001b[0m\u001b[0;34m,\u001b[0m \u001b[0mfeed_dict\u001b[0m\u001b[0;34m,\u001b[0m \u001b[0mself\u001b[0m\u001b[0;34m.\u001b[0m\u001b[0mgraph\u001b[0m\u001b[0;34m,\u001b[0m \u001b[0msession\u001b[0m\u001b[0;34m)\u001b[0m\u001b[0;34m\u001b[0m\u001b[0m\n\u001b[0m\u001b[1;32m    607\u001b[0m \u001b[0;34m\u001b[0m\u001b[0m\n\u001b[1;32m    608\u001b[0m \u001b[0;34m\u001b[0m\u001b[0m\n",
      "\u001b[0;32m/Users/LGB/anaconda/lib/python3.6/site-packages/tensorflow/python/framework/ops.py\u001b[0m in \u001b[0;36m_eval_using_default_session\u001b[0;34m(tensors, feed_dict, graph, session)\u001b[0m\n\u001b[1;32m   3926\u001b[0m                        \u001b[0;34m\"the tensor's graph is different from the session's \"\u001b[0m\u001b[0;34m\u001b[0m\u001b[0m\n\u001b[1;32m   3927\u001b[0m                        \"graph.\")\n\u001b[0;32m-> 3928\u001b[0;31m   \u001b[0;32mreturn\u001b[0m \u001b[0msession\u001b[0m\u001b[0;34m.\u001b[0m\u001b[0mrun\u001b[0m\u001b[0;34m(\u001b[0m\u001b[0mtensors\u001b[0m\u001b[0;34m,\u001b[0m \u001b[0mfeed_dict\u001b[0m\u001b[0;34m)\u001b[0m\u001b[0;34m\u001b[0m\u001b[0m\n\u001b[0m\u001b[1;32m   3929\u001b[0m \u001b[0;34m\u001b[0m\u001b[0m\n\u001b[1;32m   3930\u001b[0m \u001b[0;34m\u001b[0m\u001b[0m\n",
      "\u001b[0;32m/Users/LGB/anaconda/lib/python3.6/site-packages/tensorflow/python/client/session.py\u001b[0m in \u001b[0;36mrun\u001b[0;34m(self, fetches, feed_dict, options, run_metadata)\u001b[0m\n\u001b[1;32m    787\u001b[0m     \u001b[0;32mtry\u001b[0m\u001b[0;34m:\u001b[0m\u001b[0;34m\u001b[0m\u001b[0m\n\u001b[1;32m    788\u001b[0m       result = self._run(None, fetches, feed_dict, options_ptr,\n\u001b[0;32m--> 789\u001b[0;31m                          run_metadata_ptr)\n\u001b[0m\u001b[1;32m    790\u001b[0m       \u001b[0;32mif\u001b[0m \u001b[0mrun_metadata\u001b[0m\u001b[0;34m:\u001b[0m\u001b[0;34m\u001b[0m\u001b[0m\n\u001b[1;32m    791\u001b[0m         \u001b[0mproto_data\u001b[0m \u001b[0;34m=\u001b[0m \u001b[0mtf_session\u001b[0m\u001b[0;34m.\u001b[0m\u001b[0mTF_GetBuffer\u001b[0m\u001b[0;34m(\u001b[0m\u001b[0mrun_metadata_ptr\u001b[0m\u001b[0;34m)\u001b[0m\u001b[0;34m\u001b[0m\u001b[0m\n",
      "\u001b[0;32m/Users/LGB/anaconda/lib/python3.6/site-packages/tensorflow/python/client/session.py\u001b[0m in \u001b[0;36m_run\u001b[0;34m(self, handle, fetches, feed_dict, options, run_metadata)\u001b[0m\n\u001b[1;32m    995\u001b[0m     \u001b[0;32mif\u001b[0m \u001b[0mfinal_fetches\u001b[0m \u001b[0;32mor\u001b[0m \u001b[0mfinal_targets\u001b[0m\u001b[0;34m:\u001b[0m\u001b[0;34m\u001b[0m\u001b[0m\n\u001b[1;32m    996\u001b[0m       results = self._do_run(handle, final_targets, final_fetches,\n\u001b[0;32m--> 997\u001b[0;31m                              feed_dict_string, options, run_metadata)\n\u001b[0m\u001b[1;32m    998\u001b[0m     \u001b[0;32melse\u001b[0m\u001b[0;34m:\u001b[0m\u001b[0;34m\u001b[0m\u001b[0m\n\u001b[1;32m    999\u001b[0m       \u001b[0mresults\u001b[0m \u001b[0;34m=\u001b[0m \u001b[0;34m[\u001b[0m\u001b[0;34m]\u001b[0m\u001b[0;34m\u001b[0m\u001b[0m\n",
      "\u001b[0;32m/Users/LGB/anaconda/lib/python3.6/site-packages/tensorflow/python/client/session.py\u001b[0m in \u001b[0;36m_do_run\u001b[0;34m(self, handle, target_list, fetch_list, feed_dict, options, run_metadata)\u001b[0m\n\u001b[1;32m   1130\u001b[0m     \u001b[0;32mif\u001b[0m \u001b[0mhandle\u001b[0m \u001b[0;32mis\u001b[0m \u001b[0;32mNone\u001b[0m\u001b[0;34m:\u001b[0m\u001b[0;34m\u001b[0m\u001b[0m\n\u001b[1;32m   1131\u001b[0m       return self._do_call(_run_fn, self._session, feed_dict, fetch_list,\n\u001b[0;32m-> 1132\u001b[0;31m                            target_list, options, run_metadata)\n\u001b[0m\u001b[1;32m   1133\u001b[0m     \u001b[0;32melse\u001b[0m\u001b[0;34m:\u001b[0m\u001b[0;34m\u001b[0m\u001b[0m\n\u001b[1;32m   1134\u001b[0m       return self._do_call(_prun_fn, self._session, handle, feed_dict,\n",
      "\u001b[0;32m/Users/LGB/anaconda/lib/python3.6/site-packages/tensorflow/python/client/session.py\u001b[0m in \u001b[0;36m_do_call\u001b[0;34m(self, fn, *args)\u001b[0m\n\u001b[1;32m   1137\u001b[0m   \u001b[0;32mdef\u001b[0m \u001b[0m_do_call\u001b[0m\u001b[0;34m(\u001b[0m\u001b[0mself\u001b[0m\u001b[0;34m,\u001b[0m \u001b[0mfn\u001b[0m\u001b[0;34m,\u001b[0m \u001b[0;34m*\u001b[0m\u001b[0margs\u001b[0m\u001b[0;34m)\u001b[0m\u001b[0;34m:\u001b[0m\u001b[0;34m\u001b[0m\u001b[0m\n\u001b[1;32m   1138\u001b[0m     \u001b[0;32mtry\u001b[0m\u001b[0;34m:\u001b[0m\u001b[0;34m\u001b[0m\u001b[0m\n\u001b[0;32m-> 1139\u001b[0;31m       \u001b[0;32mreturn\u001b[0m \u001b[0mfn\u001b[0m\u001b[0;34m(\u001b[0m\u001b[0;34m*\u001b[0m\u001b[0margs\u001b[0m\u001b[0;34m)\u001b[0m\u001b[0;34m\u001b[0m\u001b[0m\n\u001b[0m\u001b[1;32m   1140\u001b[0m     \u001b[0;32mexcept\u001b[0m \u001b[0merrors\u001b[0m\u001b[0;34m.\u001b[0m\u001b[0mOpError\u001b[0m \u001b[0;32mas\u001b[0m \u001b[0me\u001b[0m\u001b[0;34m:\u001b[0m\u001b[0;34m\u001b[0m\u001b[0m\n\u001b[1;32m   1141\u001b[0m       \u001b[0mmessage\u001b[0m \u001b[0;34m=\u001b[0m \u001b[0mcompat\u001b[0m\u001b[0;34m.\u001b[0m\u001b[0mas_text\u001b[0m\u001b[0;34m(\u001b[0m\u001b[0me\u001b[0m\u001b[0;34m.\u001b[0m\u001b[0mmessage\u001b[0m\u001b[0;34m)\u001b[0m\u001b[0;34m\u001b[0m\u001b[0m\n",
      "\u001b[0;32m/Users/LGB/anaconda/lib/python3.6/site-packages/tensorflow/python/client/session.py\u001b[0m in \u001b[0;36m_run_fn\u001b[0;34m(session, feed_dict, fetch_list, target_list, options, run_metadata)\u001b[0m\n\u001b[1;32m   1119\u001b[0m         return tf_session.TF_Run(session, options,\n\u001b[1;32m   1120\u001b[0m                                  \u001b[0mfeed_dict\u001b[0m\u001b[0;34m,\u001b[0m \u001b[0mfetch_list\u001b[0m\u001b[0;34m,\u001b[0m \u001b[0mtarget_list\u001b[0m\u001b[0;34m,\u001b[0m\u001b[0;34m\u001b[0m\u001b[0m\n\u001b[0;32m-> 1121\u001b[0;31m                                  status, run_metadata)\n\u001b[0m\u001b[1;32m   1122\u001b[0m \u001b[0;34m\u001b[0m\u001b[0m\n\u001b[1;32m   1123\u001b[0m     \u001b[0;32mdef\u001b[0m \u001b[0m_prun_fn\u001b[0m\u001b[0;34m(\u001b[0m\u001b[0msession\u001b[0m\u001b[0;34m,\u001b[0m \u001b[0mhandle\u001b[0m\u001b[0;34m,\u001b[0m \u001b[0mfeed_dict\u001b[0m\u001b[0;34m,\u001b[0m \u001b[0mfetch_list\u001b[0m\u001b[0;34m)\u001b[0m\u001b[0;34m:\u001b[0m\u001b[0;34m\u001b[0m\u001b[0m\n",
      "\u001b[0;31mKeyboardInterrupt\u001b[0m: "
     ]
    }
   ],
   "source": [
    "batch_size = 64\n",
    "z_dim = 100\n",
    "learning_rate = 0.005\n",
    "beta1 = 0.5\n",
    "\n",
    "\n",
    "\"\"\"\n",
    "DON'T MODIFY ANYTHING IN THIS CELL THAT IS BELOW THIS LINE\n",
    "\"\"\"\n",
    "epochs = 1\n",
    "\n",
    "dataset = features_normal[:batch_size,:,:,:]\n",
    "#dataset = test_feature\n",
    "with tf.Graph().as_default():\n",
    "    train(dataset,epochs, batch_size, z_dim, learning_rate, beta1, get_batches,\n",
    "          dataset.shape, \"RGB\")"
   ]
  },
  {
   "cell_type": "code",
   "execution_count": 65,
   "metadata": {},
   "outputs": [
    {
     "data": {
      "text/plain": [
       "(63, 32, 32, 3)"
      ]
     },
     "execution_count": 65,
     "metadata": {},
     "output_type": "execute_result"
    }
   ],
   "source": [
    "dataset.shape"
   ]
  },
  {
   "cell_type": "code",
   "execution_count": null,
   "metadata": {
    "collapsed": true
   },
   "outputs": [],
   "source": []
  }
 ],
 "metadata": {
  "kernelspec": {
   "display_name": "Python 3",
   "language": "python",
   "name": "python3"
  },
  "language_info": {
   "codemirror_mode": {
    "name": "ipython",
    "version": 3
   },
   "file_extension": ".py",
   "mimetype": "text/x-python",
   "name": "python",
   "nbconvert_exporter": "python",
   "pygments_lexer": "ipython3",
   "version": "3.6.1"
  }
 },
 "nbformat": 4,
 "nbformat_minor": 1
}
